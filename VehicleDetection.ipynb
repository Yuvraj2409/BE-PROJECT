{
  "nbformat": 4,
  "nbformat_minor": 0,
  "metadata": {
    "colab": {
      "name": "VehicleDetection.ipynb",
      "provenance": [],
      "collapsed_sections": [],
      "include_colab_link": true
    },
    "kernelspec": {
      "name": "python3",
      "display_name": "Python 3"
    },
    "accelerator": "GPU"
  },
  "cells": [
    {
      "cell_type": "markdown",
      "metadata": {
        "id": "view-in-github",
        "colab_type": "text"
      },
      "source": [
        "<a href=\"https://colab.research.google.com/github/Yuvraj2409/BE-PROJECT/blob/master/VehicleDetection.ipynb\" target=\"_parent\"><img src=\"https://colab.research.google.com/assets/colab-badge.svg\" alt=\"Open In Colab\"/></a>"
      ]
    },
    {
      "cell_type": "code",
      "metadata": {
        "id": "Xy3NDOaqFytV",
        "colab_type": "code",
        "outputId": "e443156c-b115-485b-caf9-57c26b9cf222",
        "colab": {
          "base_uri": "https://localhost:8080/",
          "height": 187
        }
      },
      "source": [
        "pip install mrcnn"
      ],
      "execution_count": 0,
      "outputs": [
        {
          "output_type": "stream",
          "text": [
            "Collecting mrcnn\n",
            "\u001b[?25l  Downloading https://files.pythonhosted.org/packages/80/3d/56e05c297a1f464a042b2c47bcd9e5f2d452ce0e5eca3894f7cbdcaee758/mrcnn-0.2.tar.gz (51kB)\n",
            "\r\u001b[K     |██████▍                         | 10kB 19.4MB/s eta 0:00:01\r\u001b[K     |████████████▊                   | 20kB 1.8MB/s eta 0:00:01\r\u001b[K     |███████████████████             | 30kB 2.3MB/s eta 0:00:01\r\u001b[K     |█████████████████████████▌      | 40kB 1.6MB/s eta 0:00:01\r\u001b[K     |███████████████████████████████▉| 51kB 2.0MB/s eta 0:00:01\r\u001b[K     |████████████████████████████████| 61kB 1.9MB/s \n",
            "\u001b[?25hBuilding wheels for collected packages: mrcnn\n",
            "  Building wheel for mrcnn (setup.py) ... \u001b[?25l\u001b[?25hdone\n",
            "  Created wheel for mrcnn: filename=mrcnn-0.2-cp36-none-any.whl size=54931 sha256=8ad1dad5288cecd5c9f46ff84fc504f5b8d45cb34afc2e817013a57de5bcf903\n",
            "  Stored in directory: /root/.cache/pip/wheels/11/ed/28/e550ddc897c04c336b923eae4eb35c9aae993d20ce39d9cc40\n",
            "Successfully built mrcnn\n",
            "Installing collected packages: mrcnn\n",
            "Successfully installed mrcnn-0.2\n"
          ],
          "name": "stdout"
        }
      ]
    },
    {
      "cell_type": "code",
      "metadata": {
        "id": "lze15qE8C_B-",
        "colab_type": "code",
        "outputId": "f26c1f9c-a44b-428f-edde-f4031a5602a4",
        "colab": {
          "base_uri": "https://localhost:8080/",
          "height": 63
        }
      },
      "source": [
        "# plot one photograph and mask\n",
        "from os import listdir\n",
        "from xml.etree import ElementTree as ET\n",
        "from numpy import zeros\n",
        "from numpy import asarray\n",
        "from mrcnn.utils import Dataset\n",
        "from matplotlib import pyplot\n",
        "from google.colab.patches import cv2_imshow"
      ],
      "execution_count": 0,
      "outputs": [
        {
          "output_type": "display_data",
          "data": {
            "text/html": [
              "<p style=\"color: red;\">\n",
              "The default version of TensorFlow in Colab will soon switch to TensorFlow 2.x.<br>\n",
              "We recommend you <a href=\"https://www.tensorflow.org/guide/migrate\" target=\"_blank\">upgrade</a> now \n",
              "or ensure your notebook will continue to use TensorFlow 1.x via the <code>%tensorflow_version 1.x</code> magic:\n",
              "<a href=\"https://colab.research.google.com/notebooks/tensorflow_version.ipynb\" target=\"_blank\">more info</a>.</p>\n"
            ],
            "text/plain": [
              "<IPython.core.display.HTML object>"
            ]
          },
          "metadata": {
            "tags": []
          }
        }
      ]
    },
    {
      "cell_type": "code",
      "metadata": {
        "id": "wJzGsMqIK186",
        "colab_type": "code",
        "outputId": "647d915f-9068-4682-e690-350451fb5294",
        "colab": {
          "base_uri": "https://localhost:8080/",
          "height": 34
        }
      },
      "source": [
        "#from google.colab import drive\n",
        "#drive.mount('/gdrive')\n",
        "%matplotlib"
      ],
      "execution_count": 0,
      "outputs": [
        {
          "output_type": "stream",
          "text": [
            "Using matplotlib backend: agg\n"
          ],
          "name": "stdout"
        }
      ]
    },
    {
      "cell_type": "code",
      "metadata": {
        "id": "AQQp8deRDCzh",
        "colab_type": "code",
        "outputId": "d4008779-b200-4d1d-f057-dc8331afee0c",
        "colab": {
          "base_uri": "https://localhost:8080/",
          "height": 411
        }
      },
      "source": [
        "# class that defines and loads the kangaroo dataset\n",
        "class VehicleDataset(Dataset):\n",
        "\t# load the dataset definitions\n",
        "  def load_dataset(self, dataset_dir, is_train=True):\n",
        "\t\t# define one class\n",
        "    self.add_class(\"dataset\", 1, \"vehicle\")\n",
        "\t\t#define data locations\n",
        "    images_dir = dataset_dir + '/MVI_20011/'\n",
        "    annotations_dir = dataset_dir\n",
        "    listdir(images_dir)\n",
        "\t\t# find all images\n",
        "    img=[]\n",
        "    for filename in listdir(images_dir):\n",
        "      # extract image id\n",
        "      image_id = filename[3:-4]\n",
        "      #print(image_id)\n",
        "      img.append(image_id)\n",
        "    img.append('00001')\n",
        "    img.sort()\n",
        "    print(img)\n",
        "    #img = [int(x) for x in img ]\n",
        "    \n",
        "    for filename in img:\n",
        "    # skip bad images\n",
        "\t\t\t#if image_id in ['00090']:\n",
        "\t\t  #\tcontinue\n",
        "\t\t\t# skip all images after 150 if we are building the train set\n",
        "      if is_train and int(image_id) >= 601:\n",
        "        continue\n",
        "\t\t\t# skip all images before 150 if we are building the test/val set\n",
        "      if not is_train and int(image_id) < 601:\n",
        "        continue\n",
        "      img_path = images_dir + filename\n",
        "      ann_path = dataset_dir + '/MVI_20011.xml'\n",
        "      #print(ann_path)\n",
        "\t\t\t# add to dataset\n",
        "      self.add_image('dataset', image_id=image_id, path=img_path, annotation=ann_path)\n",
        "    \n",
        "\n",
        "\t# extract bounding boxes from an annotation file\n",
        "  def extract_boxes(self, filename, image_id):\n",
        "    tree = ET.parse(filename)\n",
        "    print(tree)\n",
        "    root = tree.getroot()\n",
        "    #print(root)\n",
        "    #path = '/content/drive/My Drive/ATY'\n",
        "    #tree = ET.parse(path)\n",
        "    #print(root.tag)\n",
        "    #abc = (root[2][0][0][0][0].attrib).values())\n",
        "    #print(list(abc))\n",
        "\n",
        "    #print(root[2].tag)\n",
        "    boxes=list()\n",
        "    for a in root.findall('frame'):\n",
        "      final=[]\n",
        "      for c in a[0].findall('target'):\n",
        "        b=[]\n",
        "        for d in c.findall('box'):\n",
        "          coors = d.attrib.values()\n",
        "          for i in range(len(coors)):\n",
        "            e=(float([x for x in coors][i]))  \n",
        "            b.append(int(e))        \n",
        "          final.append(b)  \n",
        "          #print(coors)\n",
        "      boxes.append(final)\n",
        "      coors = list(coors)\n",
        "      width = int(float(coors[2]))\n",
        "      height = int(float(coors[3]))\n",
        "    #print(boxes)\n",
        "    return boxes[int(image_id)], width, height\n",
        "\n",
        "\t# load the masks for an image\n",
        "  def load_mask(self, image_id):\n",
        "\t\t# get details of image\n",
        "    info = self.image_info[image_id]\n",
        "    print(info)\n",
        "\t\t# define box file location\n",
        "    path = info['annotation']\n",
        "    #print(path)\n",
        "\t\t# load XML\n",
        "    boxes, w, h = self.extract_boxes(path,image_id)\n",
        "    #print(boxes)\n",
        "\t\t# create one array for all masks, each on a different channel\n",
        "    masks = zeros([(h), (w), len(boxes)])\n",
        "\t\t# create masks\n",
        "    class_ids = list()\n",
        "    #print(boxes)\n",
        "    for i in range(len(boxes)):\n",
        "      box = boxes[i]\n",
        "      #print(box)\n",
        "      row_s, row_e = boxes[i][1]-boxes[i][3], boxes[i][1]\n",
        "      col_s, col_e = boxes[i][0], boxes[i][2] + boxes[i][0]\n",
        "      masks[row_s:row_e, col_s:col_e, i] = 1\n",
        "      #print(masks)\n",
        "      class_ids.append(self.class_names.index('vehicle'))\n",
        "    \n",
        "    x1=row_s\n",
        "    print(x1)\n",
        "    \n",
        "    return masks, asarray(class_ids)  \n",
        "\n",
        "\t# load an image reference\n",
        "  def image_reference(self, image_id):\n",
        "    info = self.image_info[image_id]\n",
        "    return info['path']\n",
        "\n",
        "# train set\n",
        "train_set = VehicleDataset()\n",
        "train_set.load_dataset('/content/drive/My Drive/ATY', is_train=True)\n",
        "train_set.prepare()\n",
        "# load an image\n",
        "image_id =0\n",
        "image = train_set.load_image(image_id)\n",
        "#image_id = 10\n",
        "image = train_set.load_image(image_id)\n",
        "cv2.rectangle(image,(520,290),(520+160,290+170),(0,255,0),2)\n",
        "cv2_imshow(image)\n",
        "print(image.shape)\n",
        "# load image mask\n",
        "mask, class_ids = train_set.load_mask(image_id)\n",
        "#print(mask.shape)\n",
        "# plot image\n",
        "#cv2_imshow(image)\n",
        "#plot mask\n",
        "#pyplot.imshow(mask[:, :, 0],cmap ='gray', alpha=0.1)\n",
        "#pyplot.show()\n",
        "#cv2.rectangle(image,(row_s,col_s),(row_e,col_e),(0,255,0),6)"
      ],
      "execution_count": 0,
      "outputs": [
        {
          "output_type": "stream",
          "text": [
            "['00001', '00001', '00002', '00004', '00005', '00007', '00008', '00009', '00011', '00013', '00015', '00017', '00019', '00021', '00024', '00028', '00029', '00030', '00031', '00032', '00034', '00035', '00037', '00038', '00039', '00040', '00043', '00044', '00045', '00047', '00048', '00050', '00051', '00052', '00054', '00055', '00056', '00057', '00058', '00060', '00061', '00064', '00066', '00067', '00068', '00069', '00072', '00073', '00075', '00076', '00077', '00078', '00079', '00082', '00086', '00090', '00091', '00092', '00097', '00098', '00102', '00103', '00104', '00105', '00108', '00109', '00111', '00114', '00115', '00116', '00118', '00120', '00121', '00128', '00131', '00132', '00135', '00136', '00139', '00142', '00143', '00144', '00145', '00148', '00151', '00152', '00153', '00156', '00157', '00160', '00163', '00164', '00168', '00170', '00171', '00172', '00174', '00175', '00176', '00177', '00178', '00180', '00181', '00182', '00185', '00190', '00191', '00193', '00194', '00196', '00198', '00199', '00200', '00201', '00205', '00206', '00207', '00208', '00211', '00212', '00216', '00219', '00220', '00221', '00222', '00223', '00224', '00226', '00228', '00229', '00232', '00233', '00234', '00235', '00238', '00239', '00240', '00243', '00244', '00247', '00248', '00249', '00251', '00253', '00256', '00258', '00259', '00260', '00264', '00265', '00268', '00269', '00270', '00271', '00272', '00273', '00274', '00277', '00278', '00279', '00284', '00286', '00289', '00290', '00292', '00293', '00294', '00295', '00296', '00297', '00300', '00301', '00302', '00303', '00304', '00305', '00306', '00307', '00308', '00310', '00311', '00312', '00313', '00315', '00317', '00318', '00319', '00320', '00321', '00322', '00323', '00325', '00327', '00329', '00331', '00332', '00334', '00335', '00337', '00339', '00340', '00342', '00344', '00345', '00346', '00347', '00348', '00349', '00351', '00352', '00353', '00355', '00357', '00359', '00360', '00362', '00364', '00366', '00369', '00370', '00372', '00373', '00375', '00376', '00377', '00379', '00383', '00384', '00386', '00387', '00388', '00393', '00394', '00395', '00397', '00400', '00402', '00403', '00405', '00406', '00407', '00409', '00410', '00411', '00412', '00415', '00417', '00419', '00422', '00424', '00426', '00427', '00428', '00429', '00430', '00431', '00432', '00433', '00438', '00439', '00440', '00441', '00443', '00446', '00447', '00448', '00450', '00454', '00455', '00457', '00460', '00461', '00462', '00463', '00464', '00465', '00466', '00468', '00469', '00471', '00472', '00474', '00475', '00477', '00478', '00479', '00480', '00481', '00485', '00487', '00488', '00489', '00490', '00492', '00493', '00495', '00496', '00497', '00498', '00499', '00501', '00505', '00507', '00508', '00509', '00511', '00513', '00514', '00515', '00517', '00519', '00522', '00523', '00524', '00525', '00527', '00528', '00529', '00530', '00531', '00534', '00535', '00536', '00537', '00539', '00540', '00542', '00543', '00544', '00545', '00548', '00550', '00552', '00554', '00556', '00559', '00567', '00570', '00571', '00572', '00574', '00575', '00576', '00578', '00580', '00582', '00583', '00585', '00588', '00589', '00592', '00593', '00594', '00596', '00597', '00598', '00601', '00602', '00603', '00604', '00605', '00607', '00608', '00610', '00611', '00612', '00614', '00615', '00616', '00617', '00619', '00622', '00624', '00627', '00632', '00633', '00634', '00636', '00637', '00638', '00639', '00640', '00643', '00645', '00646', '00647', '00648', '00649', '00653', '00654', '00655', '00658', '00660', '00662', '00663', '00664']\n"
          ],
          "name": "stdout"
        },
        {
          "output_type": "error",
          "ename": "FileNotFoundError",
          "evalue": "ignored",
          "traceback": [
            "\u001b[0;31m---------------------------------------------------------------------------\u001b[0m",
            "\u001b[0;31mFileNotFoundError\u001b[0m                         Traceback (most recent call last)",
            "\u001b[0;32m<ipython-input-4-a392ee3423d9>\u001b[0m in \u001b[0;36m<module>\u001b[0;34m()\u001b[0m\n\u001b[1;32m    110\u001b[0m \u001b[0;31m# load an image\u001b[0m\u001b[0;34m\u001b[0m\u001b[0;34m\u001b[0m\u001b[0;34m\u001b[0m\u001b[0m\n\u001b[1;32m    111\u001b[0m \u001b[0mimage_id\u001b[0m \u001b[0;34m=\u001b[0m\u001b[0;36m0\u001b[0m\u001b[0;34m\u001b[0m\u001b[0;34m\u001b[0m\u001b[0m\n\u001b[0;32m--> 112\u001b[0;31m \u001b[0mimage\u001b[0m \u001b[0;34m=\u001b[0m \u001b[0mtrain_set\u001b[0m\u001b[0;34m.\u001b[0m\u001b[0mload_image\u001b[0m\u001b[0;34m(\u001b[0m\u001b[0mimage_id\u001b[0m\u001b[0;34m)\u001b[0m\u001b[0;34m\u001b[0m\u001b[0;34m\u001b[0m\u001b[0m\n\u001b[0m\u001b[1;32m    113\u001b[0m \u001b[0;31m#image_id = 10\u001b[0m\u001b[0;34m\u001b[0m\u001b[0;34m\u001b[0m\u001b[0;34m\u001b[0m\u001b[0m\n\u001b[1;32m    114\u001b[0m \u001b[0mimage\u001b[0m \u001b[0;34m=\u001b[0m \u001b[0mtrain_set\u001b[0m\u001b[0;34m.\u001b[0m\u001b[0mload_image\u001b[0m\u001b[0;34m(\u001b[0m\u001b[0mimage_id\u001b[0m\u001b[0;34m)\u001b[0m\u001b[0;34m\u001b[0m\u001b[0;34m\u001b[0m\u001b[0m\n",
            "\u001b[0;32m/usr/local/lib/python3.6/dist-packages/mrcnn/utils.py\u001b[0m in \u001b[0;36mload_image\u001b[0;34m(self, image_id)\u001b[0m\n\u001b[1;32m    366\u001b[0m         \"\"\"\n\u001b[1;32m    367\u001b[0m         \u001b[0;31m# Load image\u001b[0m\u001b[0;34m\u001b[0m\u001b[0;34m\u001b[0m\u001b[0;34m\u001b[0m\u001b[0m\n\u001b[0;32m--> 368\u001b[0;31m         \u001b[0mimage\u001b[0m \u001b[0;34m=\u001b[0m \u001b[0mskimage\u001b[0m\u001b[0;34m.\u001b[0m\u001b[0mio\u001b[0m\u001b[0;34m.\u001b[0m\u001b[0mimread\u001b[0m\u001b[0;34m(\u001b[0m\u001b[0mself\u001b[0m\u001b[0;34m.\u001b[0m\u001b[0mimage_info\u001b[0m\u001b[0;34m[\u001b[0m\u001b[0mimage_id\u001b[0m\u001b[0;34m]\u001b[0m\u001b[0;34m[\u001b[0m\u001b[0;34m'path'\u001b[0m\u001b[0;34m]\u001b[0m\u001b[0;34m)\u001b[0m\u001b[0;34m\u001b[0m\u001b[0;34m\u001b[0m\u001b[0m\n\u001b[0m\u001b[1;32m    369\u001b[0m         \u001b[0;31m# If grayscale. Convert to RGB for consistency.\u001b[0m\u001b[0;34m\u001b[0m\u001b[0;34m\u001b[0m\u001b[0;34m\u001b[0m\u001b[0m\n\u001b[1;32m    370\u001b[0m         \u001b[0;32mif\u001b[0m \u001b[0mimage\u001b[0m\u001b[0;34m.\u001b[0m\u001b[0mndim\u001b[0m \u001b[0;34m!=\u001b[0m \u001b[0;36m3\u001b[0m\u001b[0;34m:\u001b[0m\u001b[0;34m\u001b[0m\u001b[0;34m\u001b[0m\u001b[0m\n",
            "\u001b[0;32m/usr/local/lib/python3.6/dist-packages/skimage/io/_io.py\u001b[0m in \u001b[0;36mimread\u001b[0;34m(fname, as_gray, plugin, **plugin_args)\u001b[0m\n\u001b[1;32m     46\u001b[0m \u001b[0;34m\u001b[0m\u001b[0m\n\u001b[1;32m     47\u001b[0m     \u001b[0;32mwith\u001b[0m \u001b[0mfile_or_url_context\u001b[0m\u001b[0;34m(\u001b[0m\u001b[0mfname\u001b[0m\u001b[0;34m)\u001b[0m \u001b[0;32mas\u001b[0m \u001b[0mfname\u001b[0m\u001b[0;34m:\u001b[0m\u001b[0;34m\u001b[0m\u001b[0;34m\u001b[0m\u001b[0m\n\u001b[0;32m---> 48\u001b[0;31m         \u001b[0mimg\u001b[0m \u001b[0;34m=\u001b[0m \u001b[0mcall_plugin\u001b[0m\u001b[0;34m(\u001b[0m\u001b[0;34m'imread'\u001b[0m\u001b[0;34m,\u001b[0m \u001b[0mfname\u001b[0m\u001b[0;34m,\u001b[0m \u001b[0mplugin\u001b[0m\u001b[0;34m=\u001b[0m\u001b[0mplugin\u001b[0m\u001b[0;34m,\u001b[0m \u001b[0;34m**\u001b[0m\u001b[0mplugin_args\u001b[0m\u001b[0;34m)\u001b[0m\u001b[0;34m\u001b[0m\u001b[0;34m\u001b[0m\u001b[0m\n\u001b[0m\u001b[1;32m     49\u001b[0m \u001b[0;34m\u001b[0m\u001b[0m\n\u001b[1;32m     50\u001b[0m     \u001b[0;32mif\u001b[0m \u001b[0;32mnot\u001b[0m \u001b[0mhasattr\u001b[0m\u001b[0;34m(\u001b[0m\u001b[0mimg\u001b[0m\u001b[0;34m,\u001b[0m \u001b[0;34m'ndim'\u001b[0m\u001b[0;34m)\u001b[0m\u001b[0;34m:\u001b[0m\u001b[0;34m\u001b[0m\u001b[0;34m\u001b[0m\u001b[0m\n",
            "\u001b[0;32m/usr/local/lib/python3.6/dist-packages/skimage/io/manage_plugins.py\u001b[0m in \u001b[0;36mcall_plugin\u001b[0;34m(kind, *args, **kwargs)\u001b[0m\n\u001b[1;32m    208\u001b[0m                                (plugin, kind))\n\u001b[1;32m    209\u001b[0m \u001b[0;34m\u001b[0m\u001b[0m\n\u001b[0;32m--> 210\u001b[0;31m     \u001b[0;32mreturn\u001b[0m \u001b[0mfunc\u001b[0m\u001b[0;34m(\u001b[0m\u001b[0;34m*\u001b[0m\u001b[0margs\u001b[0m\u001b[0;34m,\u001b[0m \u001b[0;34m**\u001b[0m\u001b[0mkwargs\u001b[0m\u001b[0;34m)\u001b[0m\u001b[0;34m\u001b[0m\u001b[0;34m\u001b[0m\u001b[0m\n\u001b[0m\u001b[1;32m    211\u001b[0m \u001b[0;34m\u001b[0m\u001b[0m\n\u001b[1;32m    212\u001b[0m \u001b[0;34m\u001b[0m\u001b[0m\n",
            "\u001b[0;32m/usr/local/lib/python3.6/dist-packages/skimage/io/_plugins/imageio_plugin.py\u001b[0m in \u001b[0;36mimread\u001b[0;34m(*args, **kwargs)\u001b[0m\n\u001b[1;32m      8\u001b[0m \u001b[0;34m@\u001b[0m\u001b[0mwraps\u001b[0m\u001b[0;34m(\u001b[0m\u001b[0mimageio_imread\u001b[0m\u001b[0;34m)\u001b[0m\u001b[0;34m\u001b[0m\u001b[0;34m\u001b[0m\u001b[0m\n\u001b[1;32m      9\u001b[0m \u001b[0;32mdef\u001b[0m \u001b[0mimread\u001b[0m\u001b[0;34m(\u001b[0m\u001b[0;34m*\u001b[0m\u001b[0margs\u001b[0m\u001b[0;34m,\u001b[0m \u001b[0;34m**\u001b[0m\u001b[0mkwargs\u001b[0m\u001b[0;34m)\u001b[0m\u001b[0;34m:\u001b[0m\u001b[0;34m\u001b[0m\u001b[0;34m\u001b[0m\u001b[0m\n\u001b[0;32m---> 10\u001b[0;31m     \u001b[0;32mreturn\u001b[0m \u001b[0mnp\u001b[0m\u001b[0;34m.\u001b[0m\u001b[0masarray\u001b[0m\u001b[0;34m(\u001b[0m\u001b[0mimageio_imread\u001b[0m\u001b[0;34m(\u001b[0m\u001b[0;34m*\u001b[0m\u001b[0margs\u001b[0m\u001b[0;34m,\u001b[0m \u001b[0;34m**\u001b[0m\u001b[0mkwargs\u001b[0m\u001b[0;34m)\u001b[0m\u001b[0;34m)\u001b[0m\u001b[0;34m\u001b[0m\u001b[0;34m\u001b[0m\u001b[0m\n\u001b[0m",
            "\u001b[0;32m/usr/local/lib/python3.6/dist-packages/imageio/core/functions.py\u001b[0m in \u001b[0;36mimread\u001b[0;34m(uri, format, **kwargs)\u001b[0m\n\u001b[1;32m    219\u001b[0m \u001b[0;34m\u001b[0m\u001b[0m\n\u001b[1;32m    220\u001b[0m     \u001b[0;31m# Get reader and read first\u001b[0m\u001b[0;34m\u001b[0m\u001b[0;34m\u001b[0m\u001b[0;34m\u001b[0m\u001b[0m\n\u001b[0;32m--> 221\u001b[0;31m     \u001b[0mreader\u001b[0m \u001b[0;34m=\u001b[0m \u001b[0mread\u001b[0m\u001b[0;34m(\u001b[0m\u001b[0muri\u001b[0m\u001b[0;34m,\u001b[0m \u001b[0mformat\u001b[0m\u001b[0;34m,\u001b[0m \u001b[0;34m\"i\"\u001b[0m\u001b[0;34m,\u001b[0m \u001b[0;34m**\u001b[0m\u001b[0mkwargs\u001b[0m\u001b[0;34m)\u001b[0m\u001b[0;34m\u001b[0m\u001b[0;34m\u001b[0m\u001b[0m\n\u001b[0m\u001b[1;32m    222\u001b[0m     \u001b[0;32mwith\u001b[0m \u001b[0mreader\u001b[0m\u001b[0;34m:\u001b[0m\u001b[0;34m\u001b[0m\u001b[0;34m\u001b[0m\u001b[0m\n\u001b[1;32m    223\u001b[0m         \u001b[0;32mreturn\u001b[0m \u001b[0mreader\u001b[0m\u001b[0;34m.\u001b[0m\u001b[0mget_data\u001b[0m\u001b[0;34m(\u001b[0m\u001b[0;36m0\u001b[0m\u001b[0;34m)\u001b[0m\u001b[0;34m\u001b[0m\u001b[0;34m\u001b[0m\u001b[0m\n",
            "\u001b[0;32m/usr/local/lib/python3.6/dist-packages/imageio/core/functions.py\u001b[0m in \u001b[0;36mget_reader\u001b[0;34m(uri, format, mode, **kwargs)\u001b[0m\n\u001b[1;32m    128\u001b[0m \u001b[0;34m\u001b[0m\u001b[0m\n\u001b[1;32m    129\u001b[0m     \u001b[0;31m# Create request object\u001b[0m\u001b[0;34m\u001b[0m\u001b[0;34m\u001b[0m\u001b[0;34m\u001b[0m\u001b[0m\n\u001b[0;32m--> 130\u001b[0;31m     \u001b[0mrequest\u001b[0m \u001b[0;34m=\u001b[0m \u001b[0mRequest\u001b[0m\u001b[0;34m(\u001b[0m\u001b[0muri\u001b[0m\u001b[0;34m,\u001b[0m \u001b[0;34m\"r\"\u001b[0m \u001b[0;34m+\u001b[0m \u001b[0mmode\u001b[0m\u001b[0;34m,\u001b[0m \u001b[0;34m**\u001b[0m\u001b[0mkwargs\u001b[0m\u001b[0;34m)\u001b[0m\u001b[0;34m\u001b[0m\u001b[0;34m\u001b[0m\u001b[0m\n\u001b[0m\u001b[1;32m    131\u001b[0m \u001b[0;34m\u001b[0m\u001b[0m\n\u001b[1;32m    132\u001b[0m     \u001b[0;31m# Get format\u001b[0m\u001b[0;34m\u001b[0m\u001b[0;34m\u001b[0m\u001b[0;34m\u001b[0m\u001b[0m\n",
            "\u001b[0;32m/usr/local/lib/python3.6/dist-packages/imageio/core/request.py\u001b[0m in \u001b[0;36m__init__\u001b[0;34m(self, uri, mode, **kwargs)\u001b[0m\n\u001b[1;32m    123\u001b[0m \u001b[0;34m\u001b[0m\u001b[0m\n\u001b[1;32m    124\u001b[0m         \u001b[0;31m# Parse what was given\u001b[0m\u001b[0;34m\u001b[0m\u001b[0;34m\u001b[0m\u001b[0;34m\u001b[0m\u001b[0m\n\u001b[0;32m--> 125\u001b[0;31m         \u001b[0mself\u001b[0m\u001b[0;34m.\u001b[0m\u001b[0m_parse_uri\u001b[0m\u001b[0;34m(\u001b[0m\u001b[0muri\u001b[0m\u001b[0;34m)\u001b[0m\u001b[0;34m\u001b[0m\u001b[0;34m\u001b[0m\u001b[0m\n\u001b[0m\u001b[1;32m    126\u001b[0m \u001b[0;34m\u001b[0m\u001b[0m\n\u001b[1;32m    127\u001b[0m         \u001b[0;31m# Set extension\u001b[0m\u001b[0;34m\u001b[0m\u001b[0;34m\u001b[0m\u001b[0;34m\u001b[0m\u001b[0m\n",
            "\u001b[0;32m/usr/local/lib/python3.6/dist-packages/imageio/core/request.py\u001b[0m in \u001b[0;36m_parse_uri\u001b[0;34m(self, uri)\u001b[0m\n\u001b[1;32m    271\u001b[0m                 \u001b[0;31m# Reading: check that the file exists (but is allowed a dir)\u001b[0m\u001b[0;34m\u001b[0m\u001b[0;34m\u001b[0m\u001b[0;34m\u001b[0m\u001b[0m\n\u001b[1;32m    272\u001b[0m                 \u001b[0;32mif\u001b[0m \u001b[0;32mnot\u001b[0m \u001b[0mos\u001b[0m\u001b[0;34m.\u001b[0m\u001b[0mpath\u001b[0m\u001b[0;34m.\u001b[0m\u001b[0mexists\u001b[0m\u001b[0;34m(\u001b[0m\u001b[0mfn\u001b[0m\u001b[0;34m)\u001b[0m\u001b[0;34m:\u001b[0m\u001b[0;34m\u001b[0m\u001b[0;34m\u001b[0m\u001b[0m\n\u001b[0;32m--> 273\u001b[0;31m                     \u001b[0;32mraise\u001b[0m \u001b[0mFileNotFoundError\u001b[0m\u001b[0;34m(\u001b[0m\u001b[0;34m\"No such file: '%s'\"\u001b[0m \u001b[0;34m%\u001b[0m \u001b[0mfn\u001b[0m\u001b[0;34m)\u001b[0m\u001b[0;34m\u001b[0m\u001b[0;34m\u001b[0m\u001b[0m\n\u001b[0m\u001b[1;32m    274\u001b[0m             \u001b[0;32melse\u001b[0m\u001b[0;34m:\u001b[0m\u001b[0;34m\u001b[0m\u001b[0;34m\u001b[0m\u001b[0m\n\u001b[1;32m    275\u001b[0m                 \u001b[0;31m# Writing: check that the directory to write to does exist\u001b[0m\u001b[0;34m\u001b[0m\u001b[0;34m\u001b[0m\u001b[0;34m\u001b[0m\u001b[0m\n",
            "\u001b[0;31mFileNotFoundError\u001b[0m: No such file: '/content/drive/My Drive/ATY/MVI_20011/00001'"
          ]
        }
      ]
    },
    {
      "cell_type": "code",
      "metadata": {
        "id": "LJ0yErRZvZLW",
        "colab_type": "code",
        "colab": {}
      },
      "source": [
        "import cv2"
      ],
      "execution_count": 0,
      "outputs": []
    },
    {
      "cell_type": "code",
      "metadata": {
        "id": "9_PxZ38-PgqW",
        "colab_type": "code",
        "colab": {}
      },
      "source": [
        "cv2.rectangle(image,(row_s,col_s),(row_e,col_e),(0,255,0),6)"
      ],
      "execution_count": 0,
      "outputs": []
    },
    {
      "cell_type": "code",
      "metadata": {
        "id": "Tofp3mAlvXs9",
        "colab_type": "code",
        "colab": {}
      },
      "source": [
        ""
      ],
      "execution_count": 0,
      "outputs": []
    },
    {
      "cell_type": "code",
      "metadata": {
        "id": "BQkiT-CmvSOd",
        "colab_type": "code",
        "colab": {}
      },
      "source": [
        ""
      ],
      "execution_count": 0,
      "outputs": []
    }
  ]
}